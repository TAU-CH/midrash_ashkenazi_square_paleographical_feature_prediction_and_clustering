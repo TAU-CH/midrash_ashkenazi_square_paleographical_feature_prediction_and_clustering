{
 "cells": [
  {
   "cell_type": "code",
   "execution_count": 5,
   "id": "8b493b18-6536-4f0f-aa78-5f7a6f67ae66",
   "metadata": {},
   "outputs": [],
   "source": [
    "import json\n",
    "import numpy as np\n",
    "from PIL import Image\n",
    "from sklearn.decomposition import PCA\n",
    "import matplotlib.pyplot as plt\n",
    "from matplotlib.offsetbox import OffsetImage, AnnotationBbox\n",
    "\n",
    "\n",
    "# Load the JSON file\n",
    "with open('binary_multilabels.json', 'r') as file:\n",
    "    data = json.load(file)\n",
    "\n",
    "# Define the list of tags\n",
    "tags = [\n",
    "    \"fish_tail\", \"shading\", \"short_descender\", \"string\", \"vertical_stretch\",\n",
    "    \"nikud\", \"left_justify\", \"nesting\", \"left_slanted\", \"bited_aleph\"\n",
    "]\n",
    "\n",
    "# Create a dictionary to store the tag vectors for each manuscript\n",
    "manuscript_tags = {}\n",
    "\n",
    "# Extract the images section which contains the tags\n",
    "images = data['images']\n",
    "\n",
    "# Initialize the tag vectors for each manuscript\n",
    "for image in images:\n",
    "    manuscript_name = image['image_name'].split('_')[0]\n",
    "    if manuscript_name not in manuscript_tags:\n",
    "        manuscript_tags[manuscript_name] = np.zeros(len(tags))\n",
    "    \n",
    "    # Set the corresponding tag positions to 1\n",
    "    for tag in image['tags']:\n",
    "        index = tags.index(tag)\n",
    "        manuscript_tags[manuscript_name][index] = 1\n",
    "\n",
    "# Convert to a list of vectors for further processing\n",
    "manuscript_vectors = list(manuscript_tags.values())\n",
    "manuscript_names = list(manuscript_tags.keys())\n",
    "\n",
    "\n",
    "# Read the metadata file and extract dates and regions\n",
    "metadata = {}\n",
    "with open('mapping_sequentialnames_to_metadata_normaldate.txt', 'r') as file:\n",
    "    for line in file:\n",
    "        parts = line.strip().split('\" \"')\n",
    "        sequential_name = parts[0].strip('\"')\n",
    "        manuscript_name = sequential_name.split('_')[0]\n",
    "        date = parts[3].strip('\"')\n",
    "        region = parts[4].strip('\"')\n",
    "        \n",
    "        if manuscript_name not in metadata:\n",
    "            metadata[manuscript_name] = {\"date\": date, \"region\": region}\n",
    "\n",
    "# Get dates and regions for each manuscript\n",
    "manuscript_dates = [metadata.get(name, {}).get(\"date\", 'Unknown') for name in manuscript_names]\n",
    "manuscript_regions = [metadata.get(name, {}).get(\"region\", 'Unknown') for name in manuscript_names]\n",
    "\n",
    "\n",
    "\n",
    "\n",
    "\n"
   ]
  },
  {
   "cell_type": "code",
   "execution_count": 6,
   "id": "45615e4c-be8b-4cfe-9468-0a6131fe7b14",
   "metadata": {},
   "outputs": [
    {
     "data": {
      "text/plain": [
       "(array([0.88533884, 0.83889064, 0.53250751, 1.36401657, 1.27670614,\n",
       "        0.24421646, 0.48725827, 2.570956  , 3.98857482, 0.78886555]),\n",
       " array([0.82896437, 0.84014405, 0.91169376, 0.71399069, 0.73467173,\n",
       "        0.97015405, 0.92168166, 0.4626041 , 0.26270049, 0.85212835]))"
      ]
     },
     "execution_count": 6,
     "metadata": {},
     "output_type": "execute_result"
    }
   ],
   "source": [
    "import numpy as np\n",
    "from sklearn.feature_selection import chi2\n",
    "from sklearn.feature_selection import SelectKBest\n",
    "from sklearn.feature_selection import chi2\n",
    "from sklearn.metrics import mutual_info_score\n",
    "\n",
    "\n",
    "# Compute Chi-Squared scores\n",
    "chi_scores, p_values = chi2(manuscript_vectors, manuscript_regions)\n",
    "# Select two features with highest chi-squared statistics\n",
    "chi2_selector = SelectKBest(chi2, k=4)\n",
    "chi2_selector.fit(manuscript_vectors, manuscript_regions)\n",
    "# Look at scores returned from the selector for each feature\n",
    "chi2_selector.scores_, chi2_selector.pvalues_\n",
    "\n"
   ]
  },
  {
   "cell_type": "code",
   "execution_count": 7,
   "id": "0787246b-e3fe-4c51-9619-1ba143d867d7",
   "metadata": {},
   "outputs": [
    {
     "data": {
      "text/plain": [
       "array([False, False, False,  True,  True, False, False,  True,  True,\n",
       "       False])"
      ]
     },
     "execution_count": 7,
     "metadata": {},
     "output_type": "execute_result"
    }
   ],
   "source": [
    "chi2_selector.get_support()"
   ]
  },
  {
   "cell_type": "code",
   "execution_count": 8,
   "id": "43b01f54-a209-4643-af17-13a75f90b9d2",
   "metadata": {},
   "outputs": [
    {
     "data": {
      "text/plain": [
       "(array([0.47312131, 0.26737968, 0.11229947, 1.00142602, 1.00142602,\n",
       "        0.02430724, 0.3426025 , 1.87165775, 1.8342246 , 0.64705882]),\n",
       " array([0.49155472, 0.60509495, 0.73754126, 0.3169657 , 0.3169657 ,\n",
       "        0.87610569, 0.55833085, 0.17128534, 0.17562937, 0.42116619]))"
      ]
     },
     "execution_count": 8,
     "metadata": {},
     "output_type": "execute_result"
    }
   ],
   "source": [
    "import numpy as np\n",
    "from sklearn.feature_selection import chi2\n",
    "from sklearn.feature_selection import SelectKBest\n",
    "from sklearn.feature_selection import chi2\n",
    "from sklearn.metrics import mutual_info_score\n",
    "\n",
    "\n",
    "# Filtering known samples\n",
    "known_indices = [i for i, region in enumerate(manuscript_regions) if region in ['France', 'Germany']]\n",
    "known_vectors = np.array([manuscript_vectors[i] for i in known_indices])\n",
    "known_regions = [manuscript_regions[i] for i in known_indices]\n",
    "\n",
    "# Compute Chi-Squared scores\n",
    "chi_scores, p_values = chi2(known_vectors, known_regions)\n",
    "# Select two features with highest chi-squared statistics\n",
    "chi2_selector = SelectKBest(chi2, k=4)\n",
    "chi2_selector.fit(known_vectors, known_regions)\n",
    "# Look at scores returned from the selector for each feature\n",
    "chi2_selector.scores_, chi2_selector.pvalues_\n",
    "\n"
   ]
  },
  {
   "cell_type": "code",
   "execution_count": 9,
   "id": "e9bc00fb-552a-42d8-8b10-b3ffcd1bd199",
   "metadata": {},
   "outputs": [
    {
     "data": {
      "text/plain": [
       "array([False, False, False,  True,  True, False, False,  True,  True,\n",
       "       False])"
      ]
     },
     "execution_count": 9,
     "metadata": {},
     "output_type": "execute_result"
    }
   ],
   "source": [
    "chi2_selector.get_support()"
   ]
  },
  {
   "cell_type": "code",
   "execution_count": null,
   "id": "1c82b492-0e73-4011-9eaa-a3a6c60cb412",
   "metadata": {},
   "outputs": [],
   "source": []
  },
  {
   "cell_type": "code",
   "execution_count": null,
   "id": "49acc0f9-53e9-439a-9444-18ab150a42cb",
   "metadata": {},
   "outputs": [],
   "source": []
  },
  {
   "cell_type": "code",
   "execution_count": null,
   "id": "3d219a40-f535-4f8a-be52-d0f167a577a1",
   "metadata": {},
   "outputs": [],
   "source": []
  },
  {
   "cell_type": "code",
   "execution_count": 31,
   "id": "b9083001-ffc7-4c8a-b6eb-865e78cff5d8",
   "metadata": {},
   "outputs": [
    {
     "data": {
      "image/png": "[encoded data removed]",
      "text/plain": [
       "<Figure size 2000x2000 with 1 Axes>"
      ]
     },
     "metadata": {},
     "output_type": "display_data"
    }
   ],
   "source": [
    "import matplotlib.pyplot as plt\n",
    "from sklearn.decomposition import PCA\n",
    "import numpy as np\n",
    "from adjustText import adjust_text\n",
    "\n",
    "# Prepare vectors and regions for PCA\n",
    "indices_of_interest = [3, 4, 7, 8]  # Indices of tags of interest\n",
    "filtered_vectors = np.array([manuscript_vectors[i][indices_of_interest] for i in range(len(manuscript_vectors))])\n",
    "filtered_regions = manuscript_regions\n",
    "filtered_dates = manuscript_dates\n",
    "filtered_tags = [np.array(tags)[indices_of_interest][manuscript_vectors[i][indices_of_interest].astype(bool)].tolist() for i in range(len(manuscript_vectors))]\n",
    "\n",
    "# Apply PCA to reduce dimensions to 2 for visualization\n",
    "pca = PCA(n_components=2)\n",
    "reduced_vectors = pca.fit_transform(filtered_vectors)\n",
    "loadings = pca.components_.T \n",
    "\n",
    "# Adding jitter\n",
    "jitter_strength = 0.05\n",
    "reduced_vectors[:, 0] += np.random.normal(0, jitter_strength, reduced_vectors.shape[0])\n",
    "reduced_vectors[:, 1] += np.random.normal(0, jitter_strength, reduced_vectors.shape[0])\n",
    "\n",
    "# Prepare vectors and regions for PCA\n",
    "indices_of_interest = [3, 4, 7, 8]  # Indices of tags of interest\n",
    "filtered_vectors = np.array([manuscript_vectors[i][indices_of_interest] for i in range(len(manuscript_vectors))])\n",
    "filtered_regions = manuscript_regions\n",
    "filtered_dates = manuscript_dates\n",
    "filtered_tags = [np.array(tags)[indices_of_interest][manuscript_vectors[i][indices_of_interest].astype(bool)].tolist() for i in range(len(manuscript_vectors))]\n",
    "\n",
    "# Apply PCA to reduce dimensions to 2 for visualization\n",
    "pca = PCA(n_components=2)\n",
    "reduced_vectors = pca.fit_transform(filtered_vectors)\n",
    "loadings = pca.components_.T \n",
    "\n",
    "# Adding jitter\n",
    "jitter_strength = 0.05\n",
    "reduced_vectors[:, 0] += np.random.normal(0, jitter_strength, reduced_vectors.shape[0])\n",
    "reduced_vectors[:, 1] += np.random.normal(0, jitter_strength, reduced_vectors.shape[0])\n",
    "\n",
    "# Plotting the results with jitter\n",
    "colors = {\n",
    "    \"Germany\": \"cyan\",\n",
    "    \"France\": \"magenta\",\n",
    "    \"England\": \"lightgreen\",\n",
    "    \"null\": \"yellow\"\n",
    "}\n",
    "# Setup the plot as before\n",
    "plt.rcParams.update({'font.size': 30})\n",
    "plt.figure(figsize=(20, 20))\n",
    "texts = []  # List to store text objects for adjustment\n",
    "\n",
    "for i, label in enumerate(filtered_regions):\n",
    "    color = colors.get(label, 'gray')  # Default to gray if region not in dict\n",
    "    plt.scatter(reduced_vectors[i, 0], reduced_vectors[i, 1], color=color, s=155, label=label if label not in plt.gca().get_legend_handles_labels()[1] else \"\", alpha=0.7, edgecolors='gray', linewidth=1)\n",
    "    tag_text = f\"{manuscript_names[i]}\"\n",
    "    text = plt.text(reduced_vectors[i, 0], reduced_vectors[i, 1], tag_text, fontsize=17, ha='right')\n",
    "    texts.append(text)\n",
    "\n",
    "# Adjusting text to minimize overlaps\n",
    "adjust_text(texts)\n",
    "\n",
    "# Plot the PCA loadings with jitter added\n",
    "jitter_strength = 0.005\n",
    "loadings[:, 0] += np.random.normal(0, jitter_strength, loadings.shape[0])\n",
    "loadings[:, 1] += np.random.normal(0, jitter_strength, loadings.shape[0])\n",
    "for i, (load1, load2) in enumerate(loadings):\n",
    "    plt.arrow(0, 0, load1*2, load2*2, color='red', alpha=0.9)\n",
    "    plt.text(load1*2.2, load2*2.2, tags[indices_of_interest[i]], color='red', ha='center', va='center')\n",
    "\n",
    "plt.title('PCA visualization of manuscript features')\n",
    "plt.xlabel('PC 1')\n",
    "plt.ylabel('PC 2')\n",
    "plt.legend(title='Region')\n",
    "plt.grid(True)\n",
    "plt.savefig(\"ASC_plot_with_4_tags.png\", dpi=300)\n",
    "plt.show()\n"
   ]
  },
  {
   "cell_type": "code",
   "execution_count": null,
   "id": "2304734f-fbbe-43eb-b52e-2a1da48fdad9",
   "metadata": {},
   "outputs": [],
   "source": []
  },
  {
   "cell_type": "code",
   "execution_count": null,
   "id": "8988bd26-43b0-49b2-b4c2-82252bb39f35",
   "metadata": {},
   "outputs": [],
   "source": []
  },
  {
   "cell_type": "code",
   "execution_count": null,
   "id": "9fe9bd2d-46b7-4ab1-ba87-383a7015e532",
   "metadata": {},
   "outputs": [],
   "source": []
  },
  {
   "cell_type": "code",
   "execution_count": null,
   "id": "4da45696-abab-445c-af82-8dd7862de2e6",
   "metadata": {},
   "outputs": [],
   "source": []
  },
  {
   "cell_type": "code",
   "execution_count": null,
   "id": "07e202be-6b1b-4705-a23a-e78dcc91adf2",
   "metadata": {},
   "outputs": [],
   "source": []
  },
  {
   "cell_type": "code",
   "execution_count": null,
   "id": "0b97dd07-dda4-4768-a1e7-06dc91dbdcb4",
   "metadata": {},
   "outputs": [],
   "source": []
  },
  {
   "cell_type": "code",
   "execution_count": null,
   "id": "f536f7c6-336f-4cb3-9e18-8ff35bb0488a",
   "metadata": {},
   "outputs": [],
   "source": []
  },
  {
   "cell_type": "code",
   "execution_count": null,
   "id": "10cc41d3-8b50-4510-8e66-4670cfdb7c82",
   "metadata": {},
   "outputs": [],
   "source": []
  },
  {
   "cell_type": "code",
   "execution_count": null,
   "id": "acb866d9-b15d-4afb-8bda-84349d7c5aae",
   "metadata": {},
   "outputs": [],
   "source": []
  },
  {
   "cell_type": "code",
   "execution_count": null,
   "id": "b93a73bc-592d-4d39-9505-65912c9a9636",
   "metadata": {},
   "outputs": [],
   "source": []
  },
  {
   "cell_type": "code",
   "execution_count": null,
   "id": "30b9327a-a06e-4f51-8779-28c453f26b31",
   "metadata": {},
   "outputs": [],
   "source": []
  },
  {
   "cell_type": "code",
   "execution_count": null,
   "id": "7196e68f-420d-4dcb-9ac2-0c68619d4b46",
   "metadata": {},
   "outputs": [],
   "source": []
  },
  {
   "cell_type": "code",
   "execution_count": null,
   "id": "e5784a1d-3e08-4e92-8118-2d1255b3ac29",
   "metadata": {},
   "outputs": [],
   "source": []
  },
  {
   "cell_type": "code",
   "execution_count": null,
   "id": "acbd89e9-90c5-4db7-8676-6d954f6d7730",
   "metadata": {},
   "outputs": [],
   "source": []
  },
  {
   "cell_type": "code",
   "execution_count": null,
   "id": "0c4b1c94-7a13-43fc-89b8-50a1a70ad7db",
   "metadata": {},
   "outputs": [],
   "source": []
  },
  {
   "cell_type": "code",
   "execution_count": null,
   "id": "0006f8b4-42b0-4a61-89b4-e9b6220b0980",
   "metadata": {},
   "outputs": [],
   "source": []
  },
  {
   "cell_type": "code",
   "execution_count": null,
   "id": "f15fdf36-f608-4b9f-85df-450546484390",
   "metadata": {},
   "outputs": [],
   "source": []
  },
  {
   "cell_type": "code",
   "execution_count": null,
   "id": "f60676c5-3098-4c93-bbd2-e6339f1bb764",
   "metadata": {},
   "outputs": [],
   "source": []
  },
  {
   "cell_type": "code",
   "execution_count": 1,
   "id": "3cc0d191-cd24-4b13-bac8-06ae792dae18",
   "metadata": {},
   "outputs": [],
   "source": [
    "import json\n",
    "import numpy as np\n",
    "from PIL import Image\n",
    "from sklearn.decomposition import PCA\n",
    "import matplotlib.pyplot as plt\n",
    "from matplotlib.offsetbox import OffsetImage, AnnotationBbox\n",
    "\n",
    "\n",
    "# Load the JSON file\n",
    "with open('binary_multilabels.json', 'r') as file:\n",
    "    data = json.load(file)\n",
    "\n",
    "# Define the list of tags\n",
    "tags = [\n",
    "    \"fish_tail\", \"shading\", \"short_descender\", \"string\", \"vertical_stretch\",\n",
    "    \"nikud\", \"left_justify\", \"nesting\", \"left_slanted\", \"bited_aleph\"\n",
    "]\n",
    "\n",
    "# Create a dictionary to store the tag vectors for each manuscript\n",
    "manuscript_tags = {}\n",
    "\n",
    "# Extract the images section which contains the tags\n",
    "images = data['images']\n",
    "\n",
    "# Initialize the tag vectors for each manuscript\n",
    "for image in images:\n",
    "    manuscript_name = image['image_name'].split('_')[0]\n",
    "    if manuscript_name not in manuscript_tags:\n",
    "        manuscript_tags[manuscript_name] = np.zeros(len(tags))\n",
    "    \n",
    "    # Set the corresponding tag positions to 1\n",
    "    for tag in image['tags']:\n",
    "        index = tags.index(tag)\n",
    "        manuscript_tags[manuscript_name][index] = 1\n",
    "\n",
    "# Convert to a list of vectors for further processing\n",
    "manuscript_vectors = list(manuscript_tags.values())\n",
    "manuscript_names = list(manuscript_tags.keys())\n",
    "\n",
    "\n",
    "# Read the metadata file and extract dates and regions\n",
    "metadata = {}\n",
    "with open('mapping_sequentialnames_to_metadata_normaldate.txt', 'r') as file:\n",
    "    for line in file:\n",
    "        parts = line.strip().split('\" \"')\n",
    "        sequential_name = parts[0].strip('\"')\n",
    "        manuscript_name = sequential_name.split('_')[0]\n",
    "        date = parts[3].strip('\"')\n",
    "        region = parts[4].strip('\"')\n",
    "        \n",
    "        if manuscript_name not in metadata:\n",
    "            metadata[manuscript_name] = {\"date\": date, \"region\": region}\n",
    "\n",
    "# Get dates and regions for each manuscript\n",
    "manuscript_dates = [metadata.get(name, {}).get(\"date\", 'Unknown') for name in manuscript_names]\n",
    "manuscript_regions = [metadata.get(name, {}).get(\"region\", 'Unknown') for name in manuscript_names]\n",
    "\n",
    "\n",
    "\n",
    "\n",
    "\n"
   ]
  },
  {
   "cell_type": "code",
   "execution_count": 9,
   "id": "b7084d5d-abe1-497f-aa16-ccdb45584e50",
   "metadata": {},
   "outputs": [],
   "source": [
    "manuscript_vectors_np = np.array(manuscript_vectors)\n",
    "selected_dimensions_np = manuscript_vectors_np[:, [3, 4, 7, 8]]\n",
    "selected_dimensions = selected_dimensions_np.tolist()\n"
   ]
  },
  {
   "cell_type": "code",
   "execution_count": 14,
   "id": "581a6d56-f844-48ec-a8e9-125e59fd9aa9",
   "metadata": {},
   "outputs": [],
   "source": [
    "# Define the indices of the selected dimensions\n",
    "selected_indices = [3, 4, 7, 8]\n",
    "\n",
    "# Get the names of the tags for these selected indices\n",
    "selected_tag_names = [tags[i] for i in selected_indices]\n",
    "\n",
    "# Create selected_tags which contains the tag names if their corresponding value in the vector is 1\n",
    "selected_tags = [\n",
    "    [selected_tag_names[i] for i, value in enumerate(vector) if value == 1]\n",
    "    for vector in selected_dimensions\n",
    "]\n",
    "\n"
   ]
  },
  {
   "cell_type": "code",
   "execution_count": 17,
   "id": "4222307d-2679-437d-9ab9-9dbf30a7712c",
   "metadata": {},
   "outputs": [],
   "source": [
    "# Define the cluster of manuscript names\n",
    "cluster_manuscripts = ['002', '009', '018', '053', '057', '026', '044', '021']\n",
    "\n",
    "# Filter the vectors and names to include only those in the cluster\n",
    "cluster_vectors = [selected_dimensions[i] for i, name in enumerate(manuscript_names) if name in cluster_manuscripts]\n",
    "\n",
    "# Convert binary vectors to tag sets\n",
    "cluster_tags = [\n",
    "    {selected_tag_names[i] for i, value in enumerate(vector) if value == 1}\n",
    "    for vector in cluster_vectors\n",
    "]\n",
    "\n",
    "# Find the intersection of all tag sets to identify common tags\n",
    "common_tags = set.intersection(*cluster_tags) if cluster_tags else set()\n",
    "\n",
    "# Convert the set of common tags to a list if needed\n",
    "common_tags_list = list(common_tags)\n"
   ]
  },
  {
   "cell_type": "code",
   "execution_count": 18,
   "id": "c1cd545e-8192-424f-94b4-4d73cf7d71a1",
   "metadata": {},
   "outputs": [
    {
     "data": {
      "text/plain": [
       "['string']"
      ]
     },
     "execution_count": 18,
     "metadata": {},
     "output_type": "execute_result"
    }
   ],
   "source": [
    "common_tags_list"
   ]
  },
  {
   "cell_type": "code",
   "execution_count": 20,
   "id": "a765006e-d6e8-4441-8aff-73335a262f2f",
   "metadata": {},
   "outputs": [
    {
     "data": {
      "text/plain": [
       "{'string': 8, 'vertical_stretch': 0, 'nesting': 0, 'left_slanted': 0}"
      ]
     },
     "execution_count": 20,
     "metadata": {},
     "output_type": "execute_result"
    }
   ],
   "source": [
    "# Define the cluster of manuscript names\n",
    "cluster_manuscripts = ['002', '009', '018', '053', '057', '026', '044', '021']\n",
    "\n",
    "# Filter the vectors and names to include only those in the cluster\n",
    "cluster_vectors = [selected_dimensions[i] for i, name in enumerate(manuscript_names) if name in cluster_manuscripts]\n",
    "\n",
    "# Convert binary vectors to tag lists\n",
    "cluster_tags = [\n",
    "    [selected_tag_names[i] for i, value in enumerate(vector) if value == 1]\n",
    "    for vector in cluster_vectors\n",
    "]\n",
    "\n",
    "# Count the occurrences of each tag in the cluster\n",
    "tag_count = {tag: 0 for tag in selected_tag_names}\n",
    "for tags in cluster_tags:\n",
    "    for tag in tags:\n",
    "        tag_count[tag] += 1\n",
    "\n",
    "# Display the count of each tag\n",
    "tag_count\n"
   ]
  },
  {
   "cell_type": "code",
   "execution_count": 22,
   "id": "78a66a73-5e5d-44c9-a458-8a5fe4a7fde6",
   "metadata": {},
   "outputs": [
    {
     "data": {
      "text/plain": [
       "{'Germany': [], 'France': [], 'Other': []}"
      ]
     },
     "execution_count": 22,
     "metadata": {},
     "output_type": "execute_result"
    }
   ],
   "source": [
    "# Categorize manuscripts by region\n",
    "region_manuscripts = {\n",
    "    'Germany': [],\n",
    "    'France': [],\n",
    "    'Other': []\n",
    "}\n",
    "\n",
    "# Distribute manuscripts into regions\n",
    "for i, name in enumerate(manuscript_names):\n",
    "    region = manuscript_regions[i]\n",
    "    if region == 'Germany':\n",
    "        region_manuscripts['Germany'].append(selected_dimensions[i])\n",
    "    elif region == 'France':\n",
    "        region_manuscripts['France'].append(selected_dimensions[i])\n",
    "    else:\n",
    "        region_manuscripts['Other'].append(selected_dimensions[i])\n",
    "\n",
    "# Convert binary vectors to tag sets for each region and find common tags\n",
    "common_tags_by_region = {}\n",
    "for region, vectors in region_manuscripts.items():\n",
    "    tag_sets = [\n",
    "        {selected_tag_names[i] for i, value in enumerate(vector) if value == 1}\n",
    "        for vector in vectors\n",
    "    ]\n",
    "    common_tags_by_region[region] = set.intersection(*tag_sets) if tag_sets else set()\n",
    "\n",
    "# Convert the set of common tags to a list if needed and display the results\n",
    "common_tags_by_region = {region: list(tags) for region, tags in common_tags_by_region.items()}\n",
    "common_tags_by_region\n"
   ]
  },
  {
   "cell_type": "code",
   "execution_count": null,
   "id": "b5418543-95d2-4440-8136-22906bc866d5",
   "metadata": {},
   "outputs": [],
   "source": []
  },
  {
   "cell_type": "code",
   "execution_count": null,
   "id": "e8cede99-1037-4583-99e0-647c549bcd11",
   "metadata": {},
   "outputs": [],
   "source": []
  },
  {
   "cell_type": "code",
   "execution_count": null,
   "id": "2d81f7af-203b-43c7-8dba-df68e691459d",
   "metadata": {},
   "outputs": [],
   "source": []
  },
  {
   "cell_type": "code",
   "execution_count": null,
   "id": "12b80ea8-8050-4b10-8381-f8dfded640a4",
   "metadata": {},
   "outputs": [],
   "source": []
  },
  {
   "cell_type": "code",
   "execution_count": 33,
   "id": "3de9e787-06eb-4276-990b-d0a337755f43",
   "metadata": {},
   "outputs": [
    {
     "data": {
      "text/plain": [
       "{'Germany': [], 'France': [], 'Other': []}"
      ]
     },
     "execution_count": 33,
     "metadata": {},
     "output_type": "execute_result"
    }
   ],
   "source": [
    "#cluster1\n",
    "cluster_manuscripts = ['001', '027', '025', '048', '039', '008', '020', '055']\n",
    "\n",
    "# Categorize manuscripts in the cluster by region\n",
    "cluster_region_manuscripts = {\n",
    "    'Germany': [],\n",
    "    'France': [],\n",
    "    'Other': []\n",
    "}\n",
    "\n",
    "# Distribute cluster manuscripts into regions\n",
    "for i, name in enumerate(manuscript_names):\n",
    "    if name in cluster_manuscripts:\n",
    "        region = manuscript_regions[i]\n",
    "        vector = selected_dimensions[i]\n",
    "        if region == 'Germany':\n",
    "            cluster_region_manuscripts['Germany'].append(vector)\n",
    "        elif region == 'France':\n",
    "            cluster_region_manuscripts['France'].append(vector)\n",
    "        else:\n",
    "            cluster_region_manuscripts['Other'].append(vector)\n",
    "\n",
    "# Convert binary vectors to tag sets for each region in the cluster and find common tags\n",
    "common_tags_by_region_in_cluster = {}\n",
    "for region, vectors in cluster_region_manuscripts.items():\n",
    "    tag_sets = [\n",
    "        {selected_tag_names[i] for i, value in enumerate(vector) if value == 1}\n",
    "        for vector in vectors\n",
    "    ]\n",
    "    common_tags_by_region_in_cluster[region] = set.intersection(*tag_sets) if tag_sets else set()\n",
    "\n",
    "# Convert the set of common tags to a list if needed and display the results\n",
    "common_tags_by_region_in_cluster = {region: list(tags) for region, tags in common_tags_by_region_in_cluster.items()}\n",
    "common_tags_by_region_in_cluster\n"
   ]
  },
  {
   "cell_type": "code",
   "execution_count": 37,
   "id": "973bd71d-e486-4d4f-ae3d-2cec05ba28bd",
   "metadata": {},
   "outputs": [
    {
     "data": {
      "text/plain": [
       "[]"
      ]
     },
     "execution_count": 37,
     "metadata": {},
     "output_type": "execute_result"
    }
   ],
   "source": [
    "#cluster1\n",
    "cluster_manuscripts = ['001', '027', '025', '048', '039', '008', '020', '055']\n",
    "\n",
    "# Extract vectors for the cluster manuscripts\n",
    "cluster_vectors = [selected_dimensions[i] for i, name in enumerate(manuscript_names) if name in cluster_manuscripts]\n",
    "\n",
    "# Convert binary vectors to tag sets for the cluster\n",
    "cluster_tag_sets = [\n",
    "    {selected_tag_names[i] for i, value in enumerate(vector) if value == 1}\n",
    "    for vector in cluster_vectors\n",
    "]\n",
    "\n",
    "# Find the intersection of all tag sets to identify common tags\n",
    "common_tags_in_cluster = set.intersection(*cluster_tag_sets) if cluster_tag_sets else set()\n",
    "\n",
    "# Convert the set of common tags to a list if needed\n",
    "common_tags_in_cluster = list(common_tags_in_cluster)\n",
    "common_tags_in_cluster\n"
   ]
  },
  {
   "cell_type": "code",
   "execution_count": 45,
   "id": "c447f621-5bd9-407a-bb8e-da5fe5bb0342",
   "metadata": {},
   "outputs": [
    {
     "data": {
      "text/plain": [
       "{'Germany': [[]], 'France': [[], [], [], [], []], 'Other': [[], []]}"
      ]
     },
     "execution_count": 45,
     "metadata": {},
     "output_type": "execute_result"
    }
   ],
   "source": [
    "# cluster1\n",
    "cluster_manuscripts = ['001', '027', '025', '048', '039', '008', '020', '055']\n",
    "\n",
    "# Categorize manuscripts in the cluster by region\n",
    "cluster_region_manuscripts = {\n",
    "    'Germany': [],\n",
    "    'France': [],\n",
    "    'Other': []\n",
    "}\n",
    "\n",
    "# Distribute cluster manuscripts into regions\n",
    "for i, name in enumerate(manuscript_names):\n",
    "    if name in cluster_manuscripts:\n",
    "        region = manuscript_regions[i]\n",
    "        vector = selected_dimensions[i]\n",
    "        if region == 'Germany':\n",
    "            cluster_region_manuscripts['Germany'].append(vector)\n",
    "        elif region == 'France':\n",
    "            cluster_region_manuscripts['France'].append(vector)\n",
    "        else:\n",
    "            cluster_region_manuscripts['Other'].append(vector)\n",
    "\n",
    "# Convert binary vectors to tag lists for each region\n",
    "tags_by_region = {}\n",
    "for region, vectors in cluster_region_manuscripts.items():\n",
    "    region_tags = [\n",
    "        [selected_tag_names[i] for i, value in enumerate(vector) if value == 1]\n",
    "        for vector in vectors\n",
    "    ]\n",
    "    tags_by_region[region] = region_tags\n",
    "\n",
    "# Display the tags by region\n",
    "tags_by_region\n"
   ]
  },
  {
   "cell_type": "code",
   "execution_count": null,
   "id": "9d9ae6ee-c24a-42d9-a98a-abdcb1a5e66f",
   "metadata": {},
   "outputs": [],
   "source": []
  },
  {
   "cell_type": "code",
   "execution_count": null,
   "id": "9245ab92-8811-4f3c-bc8a-4ecbf45a6b82",
   "metadata": {},
   "outputs": [],
   "source": []
  },
  {
   "cell_type": "code",
   "execution_count": null,
   "id": "78f6e26c-ee81-4e71-8a42-78e57802bb86",
   "metadata": {},
   "outputs": [],
   "source": []
  },
  {
   "cell_type": "code",
   "execution_count": null,
   "id": "a6a91cbb-75fe-4f0a-9fcc-63dda58bb11d",
   "metadata": {},
   "outputs": [],
   "source": []
  },
  {
   "cell_type": "code",
   "execution_count": null,
   "id": "35e1a15f-1e9f-46ea-a42c-43d4290f457f",
   "metadata": {},
   "outputs": [],
   "source": []
  },
  {
   "cell_type": "code",
   "execution_count": null,
   "id": "501a2887-00b9-496a-aa17-ea88ec88a73d",
   "metadata": {},
   "outputs": [],
   "source": []
  },
  {
   "cell_type": "code",
   "execution_count": null,
   "id": "9a9da146-a99c-4444-9ebc-6499f278aa8b",
   "metadata": {},
   "outputs": [],
   "source": []
  },
  {
   "cell_type": "code",
   "execution_count": 28,
   "id": "74c7f947-cb15-436e-b554-47c742405e2b",
   "metadata": {},
   "outputs": [
    {
     "data": {
      "text/plain": [
       "{'Germany': [], 'France': ['string'], 'Other': ['string']}"
      ]
     },
     "execution_count": 28,
     "metadata": {},
     "output_type": "execute_result"
    }
   ],
   "source": [
    "#cluster2\n",
    "cluster_manuscripts = ['002', '009', '018', '053', '057', '026', '044', '021']\n",
    "\n",
    "# Categorize manuscripts in the cluster by region\n",
    "cluster_region_manuscripts = {\n",
    "    'Germany': [],\n",
    "    'France': [],\n",
    "    'Other': []\n",
    "}\n",
    "\n",
    "# Distribute cluster manuscripts into regions\n",
    "for i, name in enumerate(manuscript_names):\n",
    "    if name in cluster_manuscripts:\n",
    "        region = manuscript_regions[i]\n",
    "        vector = selected_dimensions[i]\n",
    "        if region == 'Germany':\n",
    "            cluster_region_manuscripts['Germany'].append(vector)\n",
    "        elif region == 'France':\n",
    "            cluster_region_manuscripts['France'].append(vector)\n",
    "        else:\n",
    "            cluster_region_manuscripts['Other'].append(vector)\n",
    "\n",
    "# Convert binary vectors to tag sets for each region in the cluster and find common tags\n",
    "common_tags_by_region_in_cluster = {}\n",
    "for region, vectors in cluster_region_manuscripts.items():\n",
    "    tag_sets = [\n",
    "        {selected_tag_names[i] for i, value in enumerate(vector) if value == 1}\n",
    "        for vector in vectors\n",
    "    ]\n",
    "    common_tags_by_region_in_cluster[region] = set.intersection(*tag_sets) if tag_sets else set()\n",
    "\n",
    "# Convert the set of common tags to a list if needed and display the results\n",
    "common_tags_by_region_in_cluster = {region: list(tags) for region, tags in common_tags_by_region_in_cluster.items()}\n",
    "common_tags_by_region_in_cluster\n"
   ]
  },
  {
   "cell_type": "code",
   "execution_count": 38,
   "id": "7aa48d20-f749-4a1a-a111-d8d96eecb449",
   "metadata": {},
   "outputs": [
    {
     "data": {
      "text/plain": [
       "['string']"
      ]
     },
     "execution_count": 38,
     "metadata": {},
     "output_type": "execute_result"
    }
   ],
   "source": [
    "#cluster2\n",
    "cluster_manuscripts = ['002', '009', '018', '053', '057', '026', '044', '021']\n",
    "\n",
    "# Extract vectors for the cluster manuscripts\n",
    "cluster_vectors = [selected_dimensions[i] for i, name in enumerate(manuscript_names) if name in cluster_manuscripts]\n",
    "\n",
    "# Convert binary vectors to tag sets for the cluster\n",
    "cluster_tag_sets = [\n",
    "    {selected_tag_names[i] for i, value in enumerate(vector) if value == 1}\n",
    "    for vector in cluster_vectors\n",
    "]\n",
    "\n",
    "# Find the intersection of all tag sets to identify common tags\n",
    "common_tags_in_cluster = set.intersection(*cluster_tag_sets) if cluster_tag_sets else set()\n",
    "\n",
    "# Convert the set of common tags to a list if needed\n",
    "common_tags_in_cluster = list(common_tags_in_cluster)\n",
    "common_tags_in_cluster\n"
   ]
  },
  {
   "cell_type": "code",
   "execution_count": 46,
   "id": "60dd22e5-aec7-4c32-85cf-09e6210dd7e4",
   "metadata": {},
   "outputs": [
    {
     "data": {
      "text/plain": [
       "{'Germany': [],\n",
       " 'France': [['string']],\n",
       " 'Other': [['string'],\n",
       "  ['string'],\n",
       "  ['string'],\n",
       "  ['string'],\n",
       "  ['string'],\n",
       "  ['string'],\n",
       "  ['string']]}"
      ]
     },
     "execution_count": 46,
     "metadata": {},
     "output_type": "execute_result"
    }
   ],
   "source": [
    "#cluster2\n",
    "cluster_manuscripts = ['002', '009', '018', '053', '057', '026', '044', '021']\n",
    "\n",
    "# Categorize manuscripts in the cluster by region\n",
    "cluster_region_manuscripts = {\n",
    "    'Germany': [],\n",
    "    'France': [],\n",
    "    'Other': []\n",
    "}\n",
    "\n",
    "# Distribute cluster manuscripts into regions\n",
    "for i, name in enumerate(manuscript_names):\n",
    "    if name in cluster_manuscripts:\n",
    "        region = manuscript_regions[i]\n",
    "        vector = selected_dimensions[i]\n",
    "        if region == 'Germany':\n",
    "            cluster_region_manuscripts['Germany'].append(vector)\n",
    "        elif region == 'France':\n",
    "            cluster_region_manuscripts['France'].append(vector)\n",
    "        else:\n",
    "            cluster_region_manuscripts['Other'].append(vector)\n",
    "\n",
    "# Convert binary vectors to tag lists for each region\n",
    "tags_by_region = {}\n",
    "for region, vectors in cluster_region_manuscripts.items():\n",
    "    region_tags = [\n",
    "        [selected_tag_names[i] for i, value in enumerate(vector) if value == 1]\n",
    "        for vector in vectors\n",
    "    ]\n",
    "    tags_by_region[region] = region_tags\n",
    "\n",
    "# Display the tags by region\n",
    "tags_by_region\n"
   ]
  },
  {
   "cell_type": "code",
   "execution_count": null,
   "id": "6ccb0cfd-7f5a-4b9f-917e-b072358c9cee",
   "metadata": {},
   "outputs": [],
   "source": []
  },
  {
   "cell_type": "code",
   "execution_count": null,
   "id": "63930e5d-1f9f-4317-a58d-7e924e0fd7b4",
   "metadata": {},
   "outputs": [],
   "source": []
  },
  {
   "cell_type": "code",
   "execution_count": null,
   "id": "6d2047f3-9621-437f-91bb-44691d50cd59",
   "metadata": {},
   "outputs": [],
   "source": []
  },
  {
   "cell_type": "code",
   "execution_count": 30,
   "id": "1faf422d-7191-4302-bbb4-2e8b71055e80",
   "metadata": {},
   "outputs": [
    {
     "data": {
      "text/plain": [
       "{'Germany': ['string'],\n",
       " 'France': ['string', 'vertical_stretch'],\n",
       " 'Other': ['string']}"
      ]
     },
     "execution_count": 30,
     "metadata": {},
     "output_type": "execute_result"
    }
   ],
   "source": [
    "#cluster3\n",
    "cluster_manuscripts = ['033', '058', '014', '051', '004', '034', '023', '012', '045', '046', '017']\n",
    "\n",
    "# Categorize manuscripts in the cluster by region\n",
    "cluster_region_manuscripts = {\n",
    "    'Germany': [],\n",
    "    'France': [],\n",
    "    'Other': []\n",
    "}\n",
    "\n",
    "# Distribute cluster manuscripts into regions\n",
    "for i, name in enumerate(manuscript_names):\n",
    "    if name in cluster_manuscripts:\n",
    "        region = manuscript_regions[i]\n",
    "        vector = selected_dimensions[i]\n",
    "        if region == 'Germany':\n",
    "            cluster_region_manuscripts['Germany'].append(vector)\n",
    "        elif region == 'France':\n",
    "            cluster_region_manuscripts['France'].append(vector)\n",
    "        else:\n",
    "            cluster_region_manuscripts['Other'].append(vector)\n",
    "\n",
    "# Convert binary vectors to tag sets for each region in the cluster and find common tags\n",
    "common_tags_by_region_in_cluster = {}\n",
    "for region, vectors in cluster_region_manuscripts.items():\n",
    "    tag_sets = [\n",
    "        {selected_tag_names[i] for i, value in enumerate(vector) if value == 1}\n",
    "        for vector in vectors\n",
    "    ]\n",
    "    common_tags_by_region_in_cluster[region] = set.intersection(*tag_sets) if tag_sets else set()\n",
    "\n",
    "# Convert the set of common tags to a list if needed and display the results\n",
    "common_tags_by_region_in_cluster = {region: list(tags) for region, tags in common_tags_by_region_in_cluster.items()}\n",
    "common_tags_by_region_in_cluster\n"
   ]
  },
  {
   "cell_type": "code",
   "execution_count": 39,
   "id": "6b06c952-0097-4c63-a45b-490fa0a1887f",
   "metadata": {},
   "outputs": [
    {
     "data": {
      "text/plain": [
       "['string']"
      ]
     },
     "execution_count": 39,
     "metadata": {},
     "output_type": "execute_result"
    }
   ],
   "source": [
    "#cluster3\n",
    "cluster_manuscripts = ['033', '058', '014', '051', '004', '034', '023', '012', '045', '046', '017']\n",
    "\n",
    "# Extract vectors for the cluster manuscripts\n",
    "cluster_vectors = [selected_dimensions[i] for i, name in enumerate(manuscript_names) if name in cluster_manuscripts]\n",
    "\n",
    "# Convert binary vectors to tag sets for the cluster\n",
    "cluster_tag_sets = [\n",
    "    {selected_tag_names[i] for i, value in enumerate(vector) if value == 1}\n",
    "    for vector in cluster_vectors\n",
    "]\n",
    "\n",
    "# Find the intersection of all tag sets to identify common tags\n",
    "common_tags_in_cluster = set.intersection(*cluster_tag_sets) if cluster_tag_sets else set()\n",
    "\n",
    "# Convert the set of common tags to a list if needed\n",
    "common_tags_in_cluster = list(common_tags_in_cluster)\n",
    "common_tags_in_cluster\n"
   ]
  },
  {
   "cell_type": "code",
   "execution_count": 47,
   "id": "c885a1ff-44d0-4b90-b36e-e5f36d29c638",
   "metadata": {},
   "outputs": [
    {
     "data": {
      "text/plain": [
       "{'Germany': [['string', 'nesting'],\n",
       "  ['string', 'vertical_stretch'],\n",
       "  ['string', 'vertical_stretch'],\n",
       "  ['string', 'nesting'],\n",
       "  ['string', 'vertical_stretch'],\n",
       "  ['string', 'nesting']],\n",
       " 'France': [['string', 'vertical_stretch']],\n",
       " 'Other': [['string', 'nesting'],\n",
       "  ['string', 'vertical_stretch'],\n",
       "  ['string', 'vertical_stretch'],\n",
       "  ['string', 'nesting']]}"
      ]
     },
     "execution_count": 47,
     "metadata": {},
     "output_type": "execute_result"
    }
   ],
   "source": [
    "#cluster3\n",
    "cluster_manuscripts = ['033', '058', '014', '051', '004', '034', '023', '012', '045', '046', '017']\n",
    "\n",
    "\n",
    "# Categorize manuscripts in the cluster by region\n",
    "cluster_region_manuscripts = {\n",
    "    'Germany': [],\n",
    "    'France': [],\n",
    "    'Other': []\n",
    "}\n",
    "\n",
    "# Distribute cluster manuscripts into regions\n",
    "for i, name in enumerate(manuscript_names):\n",
    "    if name in cluster_manuscripts:\n",
    "        region = manuscript_regions[i]\n",
    "        vector = selected_dimensions[i]\n",
    "        if region == 'Germany':\n",
    "            cluster_region_manuscripts['Germany'].append(vector)\n",
    "        elif region == 'France':\n",
    "            cluster_region_manuscripts['France'].append(vector)\n",
    "        else:\n",
    "            cluster_region_manuscripts['Other'].append(vector)\n",
    "\n",
    "# Convert binary vectors to tag lists for each region\n",
    "tags_by_region = {}\n",
    "for region, vectors in cluster_region_manuscripts.items():\n",
    "    region_tags = [\n",
    "        [selected_tag_names[i] for i, value in enumerate(vector) if value == 1]\n",
    "        for vector in vectors\n",
    "    ]\n",
    "    tags_by_region[region] = region_tags\n",
    "\n",
    "# Display the tags by region\n",
    "tags_by_region\n"
   ]
  },
  {
   "cell_type": "code",
   "execution_count": null,
   "id": "36f90c1d-fbf4-4989-bfef-29a56a33bd35",
   "metadata": {},
   "outputs": [],
   "source": []
  },
  {
   "cell_type": "code",
   "execution_count": null,
   "id": "e9312072-cbb4-458e-84fb-ac35f18db4fe",
   "metadata": {},
   "outputs": [],
   "source": []
  },
  {
   "cell_type": "code",
   "execution_count": null,
   "id": "e74793e5-0582-4629-8e5c-0f2e75019965",
   "metadata": {},
   "outputs": [],
   "source": []
  },
  {
   "cell_type": "code",
   "execution_count": null,
   "id": "3727cb5e-5f87-4f12-80c1-39c2700572cc",
   "metadata": {},
   "outputs": [],
   "source": []
  },
  {
   "cell_type": "code",
   "execution_count": null,
   "id": "d6163fce-7939-49ec-8538-12a5b2d893de",
   "metadata": {},
   "outputs": [],
   "source": []
  },
  {
   "cell_type": "code",
   "execution_count": 31,
   "id": "87286a8d-3148-4d98-9c07-c136ea60b77e",
   "metadata": {},
   "outputs": [
    {
     "data": {
      "text/plain": [
       "{'Germany': ['string', 'vertical_stretch', 'left_slanted'],\n",
       " 'France': ['string', 'nesting', 'left_slanted'],\n",
       " 'Other': ['string']}"
      ]
     },
     "execution_count": 31,
     "metadata": {},
     "output_type": "execute_result"
    }
   ],
   "source": [
    "#cluster4\n",
    "cluster_manuscripts = ['003', '029', '054', '015', '022', '002', '010']\n",
    "\n",
    "# Categorize manuscripts in the cluster by region\n",
    "cluster_region_manuscripts = {\n",
    "    'Germany': [],\n",
    "    'France': [],\n",
    "    'Other': []\n",
    "}\n",
    "\n",
    "# Distribute cluster manuscripts into regions\n",
    "for i, name in enumerate(manuscript_names):\n",
    "    if name in cluster_manuscripts:\n",
    "        region = manuscript_regions[i]\n",
    "        vector = selected_dimensions[i]\n",
    "        if region == 'Germany':\n",
    "            cluster_region_manuscripts['Germany'].append(vector)\n",
    "        elif region == 'France':\n",
    "            cluster_region_manuscripts['France'].append(vector)\n",
    "        else:\n",
    "            cluster_region_manuscripts['Other'].append(vector)\n",
    "\n",
    "# Convert binary vectors to tag sets for each region in the cluster and find common tags\n",
    "common_tags_by_region_in_cluster = {}\n",
    "for region, vectors in cluster_region_manuscripts.items():\n",
    "    tag_sets = [\n",
    "        {selected_tag_names[i] for i, value in enumerate(vector) if value == 1}\n",
    "        for vector in vectors\n",
    "    ]\n",
    "    common_tags_by_region_in_cluster[region] = set.intersection(*tag_sets) if tag_sets else set()\n",
    "\n",
    "# Convert the set of common tags to a list if needed and display the results\n",
    "common_tags_by_region_in_cluster = {region: list(tags) for region, tags in common_tags_by_region_in_cluster.items()}\n",
    "common_tags_by_region_in_cluster\n"
   ]
  },
  {
   "cell_type": "code",
   "execution_count": 40,
   "id": "17dcc110-3cb1-4c20-859e-b14a510f4b51",
   "metadata": {},
   "outputs": [
    {
     "data": {
      "text/plain": [
       "['string']"
      ]
     },
     "execution_count": 40,
     "metadata": {},
     "output_type": "execute_result"
    }
   ],
   "source": [
    "#cluster4\n",
    "cluster_manuscripts = ['003', '029', '054', '015', '022', '002', '010']\n",
    "\n",
    "# Extract vectors for the cluster manuscripts\n",
    "cluster_vectors = [selected_dimensions[i] for i, name in enumerate(manuscript_names) if name in cluster_manuscripts]\n",
    "\n",
    "# Convert binary vectors to tag sets for the cluster\n",
    "cluster_tag_sets = [\n",
    "    {selected_tag_names[i] for i, value in enumerate(vector) if value == 1}\n",
    "    for vector in cluster_vectors\n",
    "]\n",
    "\n",
    "# Find the intersection of all tag sets to identify common tags\n",
    "common_tags_in_cluster = set.intersection(*cluster_tag_sets) if cluster_tag_sets else set()\n",
    "\n",
    "# Convert the set of common tags to a list if needed\n",
    "common_tags_in_cluster = list(common_tags_in_cluster)\n",
    "common_tags_in_cluster\n"
   ]
  },
  {
   "cell_type": "code",
   "execution_count": 48,
   "id": "13d21e89-286a-4cb6-944c-fadce59d53bf",
   "metadata": {},
   "outputs": [
    {
     "data": {
      "text/plain": [
       "{'Germany': [['string', 'vertical_stretch', 'left_slanted'],\n",
       "  ['string', 'vertical_stretch', 'left_slanted']],\n",
       " 'France': [['string', 'nesting', 'left_slanted']],\n",
       " 'Other': [['string'],\n",
       "  ['string', 'vertical_stretch', 'left_slanted'],\n",
       "  ['string', 'vertical_stretch', 'left_slanted'],\n",
       "  ['string', 'nesting', 'left_slanted']]}"
      ]
     },
     "execution_count": 48,
     "metadata": {},
     "output_type": "execute_result"
    }
   ],
   "source": [
    "#cluster4\n",
    "cluster_manuscripts = ['003', '029', '054', '015', '022', '002', '010']\n",
    "\n",
    "\n",
    "# Categorize manuscripts in the cluster by region\n",
    "cluster_region_manuscripts = {\n",
    "    'Germany': [],\n",
    "    'France': [],\n",
    "    'Other': []\n",
    "}\n",
    "\n",
    "# Distribute cluster manuscripts into regions\n",
    "for i, name in enumerate(manuscript_names):\n",
    "    if name in cluster_manuscripts:\n",
    "        region = manuscript_regions[i]\n",
    "        vector = selected_dimensions[i]\n",
    "        if region == 'Germany':\n",
    "            cluster_region_manuscripts['Germany'].append(vector)\n",
    "        elif region == 'France':\n",
    "            cluster_region_manuscripts['France'].append(vector)\n",
    "        else:\n",
    "            cluster_region_manuscripts['Other'].append(vector)\n",
    "\n",
    "# Convert binary vectors to tag lists for each region\n",
    "tags_by_region = {}\n",
    "for region, vectors in cluster_region_manuscripts.items():\n",
    "    region_tags = [\n",
    "        [selected_tag_names[i] for i, value in enumerate(vector) if value == 1]\n",
    "        for vector in vectors\n",
    "    ]\n",
    "    tags_by_region[region] = region_tags\n",
    "\n",
    "# Display the tags by region\n",
    "tags_by_region\n"
   ]
  },
  {
   "cell_type": "code",
   "execution_count": null,
   "id": "7c675be6-1c38-4434-933c-1e39d2a6b8ec",
   "metadata": {},
   "outputs": [],
   "source": []
  },
  {
   "cell_type": "code",
   "execution_count": null,
   "id": "5dbac7f9-04ce-469d-a4bb-5067327207d6",
   "metadata": {},
   "outputs": [],
   "source": []
  },
  {
   "cell_type": "code",
   "execution_count": null,
   "id": "e6188412-8c79-48ae-a528-6537e6d4c806",
   "metadata": {},
   "outputs": [],
   "source": []
  },
  {
   "cell_type": "code",
   "execution_count": null,
   "id": "7bf6e467-0955-4be2-bf2a-2100c8ce87cf",
   "metadata": {},
   "outputs": [],
   "source": []
  },
  {
   "cell_type": "code",
   "execution_count": null,
   "id": "a10ccadf-09a8-4342-be1a-c81a19421d1e",
   "metadata": {},
   "outputs": [],
   "source": []
  },
  {
   "cell_type": "code",
   "execution_count": 32,
   "id": "e1195cb8-b62f-42c4-806b-32fd03dd2040",
   "metadata": {},
   "outputs": [
    {
     "data": {
      "text/plain": [
       "{'Germany': ['string', 'vertical_stretch', 'nesting', 'left_slanted'],\n",
       " 'France': [],\n",
       " 'Other': ['string', 'vertical_stretch', 'nesting', 'left_slanted']}"
      ]
     },
     "execution_count": 32,
     "metadata": {},
     "output_type": "execute_result"
    }
   ],
   "source": [
    "#cluster5\n",
    "cluster_manuscripts = ['028', '032', '038', '042', '024']\n",
    "\n",
    "# Categorize manuscripts in the cluster by region\n",
    "cluster_region_manuscripts = {\n",
    "    'Germany': [],\n",
    "    'France': [],\n",
    "    'Other': []\n",
    "}\n",
    "\n",
    "# Distribute cluster manuscripts into regions\n",
    "for i, name in enumerate(manuscript_names):\n",
    "    if name in cluster_manuscripts:\n",
    "        region = manuscript_regions[i]\n",
    "        vector = selected_dimensions[i]\n",
    "        if region == 'Germany':\n",
    "            cluster_region_manuscripts['Germany'].append(vector)\n",
    "        elif region == 'France':\n",
    "            cluster_region_manuscripts['France'].append(vector)\n",
    "        else:\n",
    "            cluster_region_manuscripts['Other'].append(vector)\n",
    "\n",
    "# Convert binary vectors to tag sets for each region in the cluster and find common tags\n",
    "common_tags_by_region_in_cluster = {}\n",
    "for region, vectors in cluster_region_manuscripts.items():\n",
    "    tag_sets = [\n",
    "        {selected_tag_names[i] for i, value in enumerate(vector) if value == 1}\n",
    "        for vector in vectors\n",
    "    ]\n",
    "    common_tags_by_region_in_cluster[region] = set.intersection(*tag_sets) if tag_sets else set()\n",
    "\n",
    "# Convert the set of common tags to a list if needed and display the results\n",
    "common_tags_by_region_in_cluster = {region: list(tags) for region, tags in common_tags_by_region_in_cluster.items()}\n",
    "common_tags_by_region_in_cluster\n"
   ]
  },
  {
   "cell_type": "code",
   "execution_count": 41,
   "id": "82b43a6d-29b0-46d5-a146-13aa97d403d8",
   "metadata": {},
   "outputs": [
    {
     "data": {
      "text/plain": [
       "['string', 'vertical_stretch', 'nesting', 'left_slanted']"
      ]
     },
     "execution_count": 41,
     "metadata": {},
     "output_type": "execute_result"
    }
   ],
   "source": [
    "#cluster5\n",
    "cluster_manuscripts = ['028', '032', '038', '042', '024']\n",
    "\n",
    "# Extract vectors for the cluster manuscripts\n",
    "cluster_vectors = [selected_dimensions[i] for i, name in enumerate(manuscript_names) if name in cluster_manuscripts]\n",
    "\n",
    "# Convert binary vectors to tag sets for the cluster\n",
    "cluster_tag_sets = [\n",
    "    {selected_tag_names[i] for i, value in enumerate(vector) if value == 1}\n",
    "    for vector in cluster_vectors\n",
    "]\n",
    "\n",
    "# Find the intersection of all tag sets to identify common tags\n",
    "common_tags_in_cluster = set.intersection(*cluster_tag_sets) if cluster_tag_sets else set()\n",
    "\n",
    "# Convert the set of common tags to a list if needed\n",
    "common_tags_in_cluster = list(common_tags_in_cluster)\n",
    "common_tags_in_cluster\n"
   ]
  },
  {
   "cell_type": "code",
   "execution_count": 52,
   "id": "cb65fd58-b69c-43d4-946e-659dc78d2590",
   "metadata": {},
   "outputs": [
    {
     "data": {
      "text/plain": [
       "{'Germany': [['string', 'vertical_stretch', 'nesting', 'left_slanted'],\n",
       "  ['string', 'vertical_stretch', 'nesting', 'left_slanted']],\n",
       " 'France': [],\n",
       " 'Other': [['string', 'vertical_stretch', 'nesting', 'left_slanted'],\n",
       "  ['string', 'vertical_stretch', 'nesting', 'left_slanted'],\n",
       "  ['string', 'vertical_stretch', 'nesting', 'left_slanted']]}"
      ]
     },
     "execution_count": 52,
     "metadata": {},
     "output_type": "execute_result"
    }
   ],
   "source": [
    "#cluster5\n",
    "cluster_manuscripts = ['028', '032', '038', '042', '024']\n",
    "\n",
    "\n",
    "# Categorize manuscripts in the cluster by region\n",
    "cluster_region_manuscripts = {\n",
    "    'Germany': [],\n",
    "    'France': [],\n",
    "    'Other': []\n",
    "}\n",
    "\n",
    "# Distribute cluster manuscripts into regions\n",
    "for i, name in enumerate(manuscript_names):\n",
    "    if name in cluster_manuscripts:\n",
    "        region = manuscript_regions[i]\n",
    "        vector = selected_dimensions[i]\n",
    "        if region == 'Germany':\n",
    "            cluster_region_manuscripts['Germany'].append(vector)\n",
    "        elif region == 'France':\n",
    "            cluster_region_manuscripts['France'].append(vector)\n",
    "        else:\n",
    "            cluster_region_manuscripts['Other'].append(vector)\n",
    "\n",
    "# Convert binary vectors to tag lists for each region\n",
    "tags_by_region = {}\n",
    "for region, vectors in cluster_region_manuscripts.items():\n",
    "    region_tags = [\n",
    "        [selected_tag_names[i] for i, value in enumerate(vector) if value == 1]\n",
    "        for vector in vectors\n",
    "    ]\n",
    "    tags_by_region[region] = region_tags\n",
    "\n",
    "# Display the tags by region\n",
    "tags_by_region\n"
   ]
  },
  {
   "cell_type": "code",
   "execution_count": null,
   "id": "b620b4ab-50bd-4417-b430-d46f3c57d40d",
   "metadata": {},
   "outputs": [],
   "source": []
  },
  {
   "cell_type": "code",
   "execution_count": null,
   "id": "bbb97215-b7dd-4f0c-912c-bd4e0e6345c5",
   "metadata": {},
   "outputs": [],
   "source": []
  },
  {
   "cell_type": "code",
   "execution_count": null,
   "id": "8e1d1f47-837b-49c0-b4ea-e1f96eeb9ef2",
   "metadata": {},
   "outputs": [],
   "source": []
  },
  {
   "cell_type": "code",
   "execution_count": null,
   "id": "343d3652-86e8-49cb-bde8-eca04b65320f",
   "metadata": {},
   "outputs": [],
   "source": []
  },
  {
   "cell_type": "code",
   "execution_count": null,
   "id": "c56b96cb-2eb0-45bd-a8d9-f5025bf8f3d6",
   "metadata": {},
   "outputs": [],
   "source": []
  },
  {
   "cell_type": "code",
   "execution_count": 34,
   "id": "2f30a4e3-a736-436c-925c-5830392f33dc",
   "metadata": {},
   "outputs": [
    {
     "data": {
      "text/plain": [
       "{'Germany': ['string', 'nesting', 'vertical_stretch'],\n",
       " 'France': ['string', 'nesting', 'vertical_stretch'],\n",
       " 'Other': ['string', 'vertical_stretch', 'nesting']}"
      ]
     },
     "execution_count": 34,
     "metadata": {},
     "output_type": "execute_result"
    }
   ],
   "source": [
    "#cluster6\n",
    "cluster_manuscripts = ['037', '050', '016', '036']\n",
    "\n",
    "# Categorize manuscripts in the cluster by region\n",
    "cluster_region_manuscripts = {\n",
    "    'Germany': [],\n",
    "    'France': [],\n",
    "    'Other': []\n",
    "}\n",
    "\n",
    "# Distribute cluster manuscripts into regions\n",
    "for i, name in enumerate(manuscript_names):\n",
    "    if name in cluster_manuscripts:\n",
    "        region = manuscript_regions[i]\n",
    "        vector = selected_dimensions[i]\n",
    "        if region == 'Germany':\n",
    "            cluster_region_manuscripts['Germany'].append(vector)\n",
    "        elif region == 'France':\n",
    "            cluster_region_manuscripts['France'].append(vector)\n",
    "        else:\n",
    "            cluster_region_manuscripts['Other'].append(vector)\n",
    "\n",
    "# Convert binary vectors to tag sets for each region in the cluster and find common tags\n",
    "common_tags_by_region_in_cluster = {}\n",
    "for region, vectors in cluster_region_manuscripts.items():\n",
    "    tag_sets = [\n",
    "        {selected_tag_names[i] for i, value in enumerate(vector) if value == 1}\n",
    "        for vector in vectors\n",
    "    ]\n",
    "    common_tags_by_region_in_cluster[region] = set.intersection(*tag_sets) if tag_sets else set()\n",
    "\n",
    "# Convert the set of common tags to a list if needed and display the results\n",
    "common_tags_by_region_in_cluster = {region: list(tags) for region, tags in common_tags_by_region_in_cluster.items()}\n",
    "common_tags_by_region_in_cluster\n"
   ]
  },
  {
   "cell_type": "code",
   "execution_count": 53,
   "id": "606dc714-50cb-4183-8fc7-c0f45580fc1e",
   "metadata": {},
   "outputs": [
    {
     "data": {
      "text/plain": [
       "['string', 'vertical_stretch', 'nesting']"
      ]
     },
     "execution_count": 53,
     "metadata": {},
     "output_type": "execute_result"
    }
   ],
   "source": [
    "#cluster6\n",
    "cluster_manuscripts = ['037', '050', '016', '036']\n",
    "\n",
    "# Extract vectors for the cluster manuscripts\n",
    "cluster_vectors = [selected_dimensions[i] for i, name in enumerate(manuscript_names) if name in cluster_manuscripts]\n",
    "\n",
    "# Convert binary vectors to tag sets for the cluster\n",
    "cluster_tag_sets = [\n",
    "    {selected_tag_names[i] for i, value in enumerate(vector) if value == 1}\n",
    "    for vector in cluster_vectors\n",
    "]\n",
    "\n",
    "# Find the intersection of all tag sets to identify common tags\n",
    "common_tags_in_cluster = set.intersection(*cluster_tag_sets) if cluster_tag_sets else set()\n",
    "\n",
    "# Convert the set of common tags to a list if needed\n",
    "common_tags_in_cluster = list(common_tags_in_cluster)\n",
    "common_tags_in_cluster\n"
   ]
  },
  {
   "cell_type": "code",
   "execution_count": 49,
   "id": "66f3b5d7-0c6e-4bff-9a38-5bf82e011606",
   "metadata": {},
   "outputs": [
    {
     "data": {
      "text/plain": [
       "{'Germany': [['string', 'vertical_stretch', 'nesting']],\n",
       " 'France': [['string', 'vertical_stretch', 'nesting']],\n",
       " 'Other': [['string', 'vertical_stretch', 'nesting'],\n",
       "  ['string', 'vertical_stretch', 'nesting']]}"
      ]
     },
     "execution_count": 49,
     "metadata": {},
     "output_type": "execute_result"
    }
   ],
   "source": [
    "#cluster6\n",
    "cluster_manuscripts = ['037', '050', '016', '036']\n",
    "\n",
    "\n",
    "# Categorize manuscripts in the cluster by region\n",
    "cluster_region_manuscripts = {\n",
    "    'Germany': [],\n",
    "    'France': [],\n",
    "    'Other': []\n",
    "}\n",
    "\n",
    "# Distribute cluster manuscripts into regions\n",
    "for i, name in enumerate(manuscript_names):\n",
    "    if name in cluster_manuscripts:\n",
    "        region = manuscript_regions[i]\n",
    "        vector = selected_dimensions[i]\n",
    "        if region == 'Germany':\n",
    "            cluster_region_manuscripts['Germany'].append(vector)\n",
    "        elif region == 'France':\n",
    "            cluster_region_manuscripts['France'].append(vector)\n",
    "        else:\n",
    "            cluster_region_manuscripts['Other'].append(vector)\n",
    "\n",
    "# Convert binary vectors to tag lists for each region\n",
    "tags_by_region = {}\n",
    "for region, vectors in cluster_region_manuscripts.items():\n",
    "    region_tags = [\n",
    "        [selected_tag_names[i] for i, value in enumerate(vector) if value == 1]\n",
    "        for vector in vectors\n",
    "    ]\n",
    "    tags_by_region[region] = region_tags\n",
    "\n",
    "# Display the tags by region\n",
    "tags_by_region\n"
   ]
  },
  {
   "cell_type": "code",
   "execution_count": null,
   "id": "b8d7d772-3430-48b5-8706-421e0533803f",
   "metadata": {},
   "outputs": [],
   "source": []
  },
  {
   "cell_type": "code",
   "execution_count": null,
   "id": "c55702ad-cc67-4bd2-b5ec-ae6e7cd2ba64",
   "metadata": {},
   "outputs": [],
   "source": []
  },
  {
   "cell_type": "code",
   "execution_count": null,
   "id": "5053c088-0dac-4a75-ae0a-347ad174b4ea",
   "metadata": {},
   "outputs": [],
   "source": []
  },
  {
   "cell_type": "code",
   "execution_count": null,
   "id": "20f700f1-1b4d-43c2-b43b-640d60fa9748",
   "metadata": {},
   "outputs": [],
   "source": []
  },
  {
   "cell_type": "code",
   "execution_count": 35,
   "id": "0ff71bfb-a980-4f06-8e77-864214292f52",
   "metadata": {},
   "outputs": [
    {
     "data": {
      "text/plain": [
       "{'Germany': ['vertical_stretch', 'nesting'],\n",
       " 'France': ['nesting', 'vertical_stretch'],\n",
       " 'Other': ['vertical_stretch', 'nesting']}"
      ]
     },
     "execution_count": 35,
     "metadata": {},
     "output_type": "execute_result"
    }
   ],
   "source": [
    "#cluster7\n",
    "cluster_manuscripts = ['043', '005', '056', '031', '035', '006']\n",
    "\n",
    "# Categorize manuscripts in the cluster by region\n",
    "cluster_region_manuscripts = {\n",
    "    'Germany': [],\n",
    "    'France': [],\n",
    "    'Other': []\n",
    "}\n",
    "\n",
    "# Distribute cluster manuscripts into regions\n",
    "for i, name in enumerate(manuscript_names):\n",
    "    if name in cluster_manuscripts:\n",
    "        region = manuscript_regions[i]\n",
    "        vector = selected_dimensions[i]\n",
    "        if region == 'Germany':\n",
    "            cluster_region_manuscripts['Germany'].append(vector)\n",
    "        elif region == 'France':\n",
    "            cluster_region_manuscripts['France'].append(vector)\n",
    "        else:\n",
    "            cluster_region_manuscripts['Other'].append(vector)\n",
    "\n",
    "# Convert binary vectors to tag sets for each region in the cluster and find common tags\n",
    "common_tags_by_region_in_cluster = {}\n",
    "for region, vectors in cluster_region_manuscripts.items():\n",
    "    tag_sets = [\n",
    "        {selected_tag_names[i] for i, value in enumerate(vector) if value == 1}\n",
    "        for vector in vectors\n",
    "    ]\n",
    "    common_tags_by_region_in_cluster[region] = set.intersection(*tag_sets) if tag_sets else set()\n",
    "\n",
    "# Convert the set of common tags to a list if needed and display the results\n",
    "common_tags_by_region_in_cluster = {region: list(tags) for region, tags in common_tags_by_region_in_cluster.items()}\n",
    "common_tags_by_region_in_cluster\n"
   ]
  },
  {
   "cell_type": "code",
   "execution_count": 43,
   "id": "0b2497c7-0d97-452b-adcc-127aa8ad1c34",
   "metadata": {},
   "outputs": [
    {
     "data": {
      "text/plain": [
       "['vertical_stretch', 'nesting']"
      ]
     },
     "execution_count": 43,
     "metadata": {},
     "output_type": "execute_result"
    }
   ],
   "source": [
    "#cluster7\n",
    "cluster_manuscripts = ['043', '005', '056', '031', '035', '006']\n",
    "\n",
    "# Extract vectors for the cluster manuscripts\n",
    "cluster_vectors = [selected_dimensions[i] for i, name in enumerate(manuscript_names) if name in cluster_manuscripts]\n",
    "\n",
    "# Convert binary vectors to tag sets for the cluster\n",
    "cluster_tag_sets = [\n",
    "    {selected_tag_names[i] for i, value in enumerate(vector) if value == 1}\n",
    "    for vector in cluster_vectors\n",
    "]\n",
    "\n",
    "# Find the intersection of all tag sets to identify common tags\n",
    "common_tags_in_cluster = set.intersection(*cluster_tag_sets) if cluster_tag_sets else set()\n",
    "\n",
    "# Convert the set of common tags to a list if needed\n",
    "common_tags_in_cluster = list(common_tags_in_cluster)\n",
    "common_tags_in_cluster\n"
   ]
  },
  {
   "cell_type": "code",
   "execution_count": 50,
   "id": "3022d6f6-a3ad-48bd-a7db-4639234e33aa",
   "metadata": {},
   "outputs": [
    {
     "data": {
      "text/plain": [
       "{'Germany': [['vertical_stretch', 'nesting'], ['vertical_stretch', 'nesting']],\n",
       " 'France': [['vertical_stretch', 'nesting']],\n",
       " 'Other': [['vertical_stretch', 'nesting'],\n",
       "  ['vertical_stretch', 'nesting'],\n",
       "  ['vertical_stretch', 'nesting']]}"
      ]
     },
     "execution_count": 50,
     "metadata": {},
     "output_type": "execute_result"
    }
   ],
   "source": [
    "#cluster7\n",
    "cluster_manuscripts = ['043', '005', '056', '031', '035', '006']\n",
    "\n",
    "\n",
    "# Categorize manuscripts in the cluster by region\n",
    "cluster_region_manuscripts = {\n",
    "    'Germany': [],\n",
    "    'France': [],\n",
    "    'Other': []\n",
    "}\n",
    "\n",
    "# Distribute cluster manuscripts into regions\n",
    "for i, name in enumerate(manuscript_names):\n",
    "    if name in cluster_manuscripts:\n",
    "        region = manuscript_regions[i]\n",
    "        vector = selected_dimensions[i]\n",
    "        if region == 'Germany':\n",
    "            cluster_region_manuscripts['Germany'].append(vector)\n",
    "        elif region == 'France':\n",
    "            cluster_region_manuscripts['France'].append(vector)\n",
    "        else:\n",
    "            cluster_region_manuscripts['Other'].append(vector)\n",
    "\n",
    "# Convert binary vectors to tag lists for each region\n",
    "tags_by_region = {}\n",
    "for region, vectors in cluster_region_manuscripts.items():\n",
    "    region_tags = [\n",
    "        [selected_tag_names[i] for i, value in enumerate(vector) if value == 1]\n",
    "        for vector in vectors\n",
    "    ]\n",
    "    tags_by_region[region] = region_tags\n",
    "\n",
    "# Display the tags by region\n",
    "tags_by_region\n"
   ]
  },
  {
   "cell_type": "code",
   "execution_count": null,
   "id": "ce821a43-1800-4594-b448-68cac3a8c962",
   "metadata": {},
   "outputs": [],
   "source": []
  },
  {
   "cell_type": "code",
   "execution_count": null,
   "id": "30c7ff2d-5ee5-4950-a490-ce35435574cb",
   "metadata": {},
   "outputs": [],
   "source": []
  },
  {
   "cell_type": "code",
   "execution_count": null,
   "id": "5628bf1b-d65f-47f1-bbe2-9f058e86f151",
   "metadata": {},
   "outputs": [],
   "source": []
  },
  {
   "cell_type": "code",
   "execution_count": null,
   "id": "16639466-88f2-4bbe-8394-3ed2e861e018",
   "metadata": {},
   "outputs": [],
   "source": []
  },
  {
   "cell_type": "code",
   "execution_count": null,
   "id": "3a59a0c2-b4a7-4e0d-a508-f62bc39d703f",
   "metadata": {},
   "outputs": [],
   "source": []
  },
  {
   "cell_type": "code",
   "execution_count": null,
   "id": "4f5850df-144c-447f-8b39-75aeb52aa263",
   "metadata": {},
   "outputs": [],
   "source": []
  },
  {
   "cell_type": "code",
   "execution_count": null,
   "id": "0df1cdc3-780d-492e-bdce-07868dd979c3",
   "metadata": {},
   "outputs": [],
   "source": []
  },
  {
   "cell_type": "code",
   "execution_count": 36,
   "id": "5272a721-956b-4d0a-ab89-178d833e47ba",
   "metadata": {},
   "outputs": [
    {
     "data": {
      "text/plain": [
       "{'Germany': ['nesting'], 'France': ['vertical_stretch'], 'Other': []}"
      ]
     },
     "execution_count": 36,
     "metadata": {},
     "output_type": "execute_result"
    }
   ],
   "source": [
    "#cluster8\n",
    "cluster_manuscripts = ['013', '030', '041', '047', '019', '011','049']\n",
    "\n",
    "# Categorize manuscripts in the cluster by region\n",
    "cluster_region_manuscripts = {\n",
    "    'Germany': [],\n",
    "    'France': [],\n",
    "    'Other': []\n",
    "}\n",
    "\n",
    "# Distribute cluster manuscripts into regions\n",
    "for i, name in enumerate(manuscript_names):\n",
    "    if name in cluster_manuscripts:\n",
    "        region = manuscript_regions[i]\n",
    "        vector = selected_dimensions[i]\n",
    "        if region == 'Germany':\n",
    "            cluster_region_manuscripts['Germany'].append(vector)\n",
    "        elif region == 'France':\n",
    "            cluster_region_manuscripts['France'].append(vector)\n",
    "        else:\n",
    "            cluster_region_manuscripts['Other'].append(vector)\n",
    "\n",
    "# Convert binary vectors to tag sets for each region in the cluster and find common tags\n",
    "common_tags_by_region_in_cluster = {}\n",
    "for region, vectors in cluster_region_manuscripts.items():\n",
    "    tag_sets = [\n",
    "        {selected_tag_names[i] for i, value in enumerate(vector) if value == 1}\n",
    "        for vector in vectors\n",
    "    ]\n",
    "    common_tags_by_region_in_cluster[region] = set.intersection(*tag_sets) if tag_sets else set()\n",
    "\n",
    "# Convert the set of common tags to a list if needed and display the results\n",
    "common_tags_by_region_in_cluster = {region: list(tags) for region, tags in common_tags_by_region_in_cluster.items()}\n",
    "common_tags_by_region_in_cluster\n"
   ]
  },
  {
   "cell_type": "code",
   "execution_count": 44,
   "id": "b11cdfa4-6822-4ee3-aca7-3196d56af49a",
   "metadata": {},
   "outputs": [
    {
     "data": {
      "text/plain": [
       "[]"
      ]
     },
     "execution_count": 44,
     "metadata": {},
     "output_type": "execute_result"
    }
   ],
   "source": [
    "#cluster8\n",
    "cluster_manuscripts = ['013', '030', '041', '047', '019', '011','049']\n",
    "\n",
    "# Extract vectors for the cluster manuscripts\n",
    "cluster_vectors = [selected_dimensions[i] for i, name in enumerate(manuscript_names) if name in cluster_manuscripts]\n",
    "\n",
    "# Convert binary vectors to tag sets for the cluster\n",
    "cluster_tag_sets = [\n",
    "    {selected_tag_names[i] for i, value in enumerate(vector) if value == 1}\n",
    "    for vector in cluster_vectors\n",
    "]\n",
    "\n",
    "# Find the intersection of all tag sets to identify common tags\n",
    "common_tags_in_cluster = set.intersection(*cluster_tag_sets) if cluster_tag_sets else set()\n",
    "\n",
    "# Convert the set of common tags to a list if needed\n",
    "common_tags_in_cluster = list(common_tags_in_cluster)\n",
    "common_tags_in_cluster\n"
   ]
  },
  {
   "cell_type": "code",
   "execution_count": 51,
   "id": "c6df639c-54c3-404c-b600-8aead04db0eb",
   "metadata": {},
   "outputs": [
    {
     "data": {
      "text/plain": [
       "{'Germany': [['nesting']],\n",
       " 'France': [['vertical_stretch']],\n",
       " 'Other': [['vertical_stretch'],\n",
       "  ['vertical_stretch'],\n",
       "  ['nesting'],\n",
       "  ['vertical_stretch'],\n",
       "  ['vertical_stretch']]}"
      ]
     },
     "execution_count": 51,
     "metadata": {},
     "output_type": "execute_result"
    }
   ],
   "source": [
    "#cluster8\n",
    "cluster_manuscripts = ['013', '030', '041', '047', '019', '011','049']\n",
    "\n",
    "\n",
    "# Categorize manuscripts in the cluster by region\n",
    "cluster_region_manuscripts = {\n",
    "    'Germany': [],\n",
    "    'France': [],\n",
    "    'Other': []\n",
    "}\n",
    "\n",
    "# Distribute cluster manuscripts into regions\n",
    "for i, name in enumerate(manuscript_names):\n",
    "    if name in cluster_manuscripts:\n",
    "        region = manuscript_regions[i]\n",
    "        vector = selected_dimensions[i]\n",
    "        if region == 'Germany':\n",
    "            cluster_region_manuscripts['Germany'].append(vector)\n",
    "        elif region == 'France':\n",
    "            cluster_region_manuscripts['France'].append(vector)\n",
    "        else:\n",
    "            cluster_region_manuscripts['Other'].append(vector)\n",
    "\n",
    "# Convert binary vectors to tag lists for each region\n",
    "tags_by_region = {}\n",
    "for region, vectors in cluster_region_manuscripts.items():\n",
    "    region_tags = [\n",
    "        [selected_tag_names[i] for i, value in enumerate(vector) if value == 1]\n",
    "        for vector in vectors\n",
    "    ]\n",
    "    tags_by_region[region] = region_tags\n",
    "\n",
    "# Display the tags by region\n",
    "tags_by_region\n"
   ]
  },
  {
   "cell_type": "code",
   "execution_count": null,
   "id": "d3105383-a837-4aed-acda-96196e3df307",
   "metadata": {},
   "outputs": [],
   "source": []
  },
  {
   "cell_type": "code",
   "execution_count": null,
   "id": "138b7bcb-affe-457e-8395-5245a65e9cb3",
   "metadata": {},
   "outputs": [],
   "source": []
  },
  {
   "cell_type": "code",
   "execution_count": null,
   "id": "34987202-740d-4d5f-83b8-e94d6bf7995c",
   "metadata": {},
   "outputs": [],
   "source": []
  },
  {
   "cell_type": "code",
   "execution_count": null,
   "id": "e44871a8-0d8a-4c47-9fea-f8af79903f23",
   "metadata": {},
   "outputs": [],
   "source": []
  },
  {
   "cell_type": "code",
   "execution_count": null,
   "id": "2ab15054-8e40-41de-a0aa-047378faa3ab",
   "metadata": {},
   "outputs": [],
   "source": []
  }
 ],
 "metadata": {
  "kernelspec": {
   "display_name": "Python 3 (ipykernel)",
   "language": "python",
   "name": "python3"
  },
  "language_info": {
   "codemirror_mode": {
    "name": "ipython",
    "version": 3
   },
   "file_extension": ".py",
   "mimetype": "text/x-python",
   "name": "python",
   "nbconvert_exporter": "python",
   "pygments_lexer": "ipython3",
   "version": "3.7.0"
  }
 },
 "nbformat": 4,
 "nbformat_minor": 5
}
